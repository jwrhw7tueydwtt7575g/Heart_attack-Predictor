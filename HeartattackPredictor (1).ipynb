{
 "cells": [
  {
   "cell_type": "code",
   "execution_count": 1,
   "id": "d0565408-2abe-48d3-9f05-ad26c4282d95",
   "metadata": {},
   "outputs": [
    {
     "data": {
      "text/html": [
       "<div>\n",
       "<style scoped>\n",
       "    .dataframe tbody tr th:only-of-type {\n",
       "        vertical-align: middle;\n",
       "    }\n",
       "\n",
       "    .dataframe tbody tr th {\n",
       "        vertical-align: top;\n",
       "    }\n",
       "\n",
       "    .dataframe thead th {\n",
       "        text-align: right;\n",
       "    }\n",
       "</style>\n",
       "<table border=\"1\" class=\"dataframe\">\n",
       "  <thead>\n",
       "    <tr style=\"text-align: right;\">\n",
       "      <th></th>\n",
       "      <th>age</th>\n",
       "      <th>sex</th>\n",
       "      <th>chest pain type</th>\n",
       "      <th>resting bp s</th>\n",
       "      <th>cholesterol</th>\n",
       "      <th>fasting blood sugar</th>\n",
       "      <th>resting ecg</th>\n",
       "      <th>max heart rate</th>\n",
       "      <th>exercise angina</th>\n",
       "      <th>oldpeak</th>\n",
       "      <th>ST slope</th>\n",
       "      <th>target</th>\n",
       "    </tr>\n",
       "  </thead>\n",
       "  <tbody>\n",
       "    <tr>\n",
       "      <th>0</th>\n",
       "      <td>40</td>\n",
       "      <td>1</td>\n",
       "      <td>2</td>\n",
       "      <td>140</td>\n",
       "      <td>289</td>\n",
       "      <td>0</td>\n",
       "      <td>0</td>\n",
       "      <td>172</td>\n",
       "      <td>0</td>\n",
       "      <td>0.0</td>\n",
       "      <td>1</td>\n",
       "      <td>0</td>\n",
       "    </tr>\n",
       "    <tr>\n",
       "      <th>1</th>\n",
       "      <td>49</td>\n",
       "      <td>0</td>\n",
       "      <td>3</td>\n",
       "      <td>160</td>\n",
       "      <td>180</td>\n",
       "      <td>0</td>\n",
       "      <td>0</td>\n",
       "      <td>156</td>\n",
       "      <td>0</td>\n",
       "      <td>1.0</td>\n",
       "      <td>2</td>\n",
       "      <td>1</td>\n",
       "    </tr>\n",
       "    <tr>\n",
       "      <th>2</th>\n",
       "      <td>37</td>\n",
       "      <td>1</td>\n",
       "      <td>2</td>\n",
       "      <td>130</td>\n",
       "      <td>283</td>\n",
       "      <td>0</td>\n",
       "      <td>1</td>\n",
       "      <td>98</td>\n",
       "      <td>0</td>\n",
       "      <td>0.0</td>\n",
       "      <td>1</td>\n",
       "      <td>0</td>\n",
       "    </tr>\n",
       "    <tr>\n",
       "      <th>3</th>\n",
       "      <td>48</td>\n",
       "      <td>0</td>\n",
       "      <td>4</td>\n",
       "      <td>138</td>\n",
       "      <td>214</td>\n",
       "      <td>0</td>\n",
       "      <td>0</td>\n",
       "      <td>108</td>\n",
       "      <td>1</td>\n",
       "      <td>1.5</td>\n",
       "      <td>2</td>\n",
       "      <td>1</td>\n",
       "    </tr>\n",
       "    <tr>\n",
       "      <th>4</th>\n",
       "      <td>54</td>\n",
       "      <td>1</td>\n",
       "      <td>3</td>\n",
       "      <td>150</td>\n",
       "      <td>195</td>\n",
       "      <td>0</td>\n",
       "      <td>0</td>\n",
       "      <td>122</td>\n",
       "      <td>0</td>\n",
       "      <td>0.0</td>\n",
       "      <td>1</td>\n",
       "      <td>0</td>\n",
       "    </tr>\n",
       "  </tbody>\n",
       "</table>\n",
       "</div>"
      ],
      "text/plain": [
       "   age  sex  chest pain type  resting bp s  cholesterol  fasting blood sugar  \\\n",
       "0   40    1                2           140          289                    0   \n",
       "1   49    0                3           160          180                    0   \n",
       "2   37    1                2           130          283                    0   \n",
       "3   48    0                4           138          214                    0   \n",
       "4   54    1                3           150          195                    0   \n",
       "\n",
       "   resting ecg  max heart rate  exercise angina  oldpeak  ST slope  target  \n",
       "0            0             172                0      0.0         1       0  \n",
       "1            0             156                0      1.0         2       1  \n",
       "2            1              98                0      0.0         1       0  \n",
       "3            0             108                1      1.5         2       1  \n",
       "4            0             122                0      0.0         1       0  "
      ]
     },
     "execution_count": 1,
     "metadata": {},
     "output_type": "execute_result"
    }
   ],
   "source": [
    "import pandas as pd\n",
    "df = pd.read_csv(\"C:/Users/mohan/OneDrive/Desktop/Heart attack predictor/dataset.csv\")\n",
    "df.head()"
   ]
  },
  {
   "cell_type": "code",
   "execution_count": 2,
   "id": "cf28035a-c2a8-4dd2-9f04-fc53c76f1a76",
   "metadata": {},
   "outputs": [
    {
     "name": "stdout",
     "output_type": "stream",
     "text": [
      "<class 'pandas.core.frame.DataFrame'>\n",
      "RangeIndex: 1190 entries, 0 to 1189\n",
      "Data columns (total 12 columns):\n",
      " #   Column               Non-Null Count  Dtype  \n",
      "---  ------               --------------  -----  \n",
      " 0   age                  1190 non-null   int64  \n",
      " 1   sex                  1190 non-null   int64  \n",
      " 2   chest pain type      1190 non-null   int64  \n",
      " 3   resting bp s         1190 non-null   int64  \n",
      " 4   cholesterol          1190 non-null   int64  \n",
      " 5   fasting blood sugar  1190 non-null   int64  \n",
      " 6   resting ecg          1190 non-null   int64  \n",
      " 7   max heart rate       1190 non-null   int64  \n",
      " 8   exercise angina      1190 non-null   int64  \n",
      " 9   oldpeak              1190 non-null   float64\n",
      " 10  ST slope             1190 non-null   int64  \n",
      " 11  target               1190 non-null   int64  \n",
      "dtypes: float64(1), int64(11)\n",
      "memory usage: 111.7 KB\n"
     ]
    }
   ],
   "source": [
    "df.info()\n"
   ]
  },
  {
   "cell_type": "code",
   "execution_count": 3,
   "id": "dad11ff4-2ae7-43b1-95f7-1d645445dcff",
   "metadata": {},
   "outputs": [
    {
     "data": {
      "text/plain": [
       "age                    0\n",
       "sex                    0\n",
       "chest pain type        0\n",
       "resting bp s           0\n",
       "cholesterol            0\n",
       "fasting blood sugar    0\n",
       "resting ecg            0\n",
       "max heart rate         0\n",
       "exercise angina        0\n",
       "oldpeak                0\n",
       "ST slope               0\n",
       "target                 0\n",
       "dtype: int64"
      ]
     },
     "execution_count": 3,
     "metadata": {},
     "output_type": "execute_result"
    }
   ],
   "source": [
    "df.isnull().sum()\n"
   ]
  },
  {
   "cell_type": "code",
   "execution_count": 4,
   "id": "d7e4b87b-e9d4-451e-8f77-d4a45f136a19",
   "metadata": {},
   "outputs": [],
   "source": [
    "X = df.drop('target',axis=1)\n",
    "y = df['target']"
   ]
  },
  {
   "cell_type": "code",
   "execution_count": 5,
   "id": "994a9cf9-f918-4424-9c4e-be83ad20999e",
   "metadata": {},
   "outputs": [],
   "source": [
    "from sklearn.model_selection import train_test_split\n",
    "X_train, X_test, y_train, y_test = train_test_split(X, y, test_size=0.2, random_state=42)\n"
   ]
  },
  {
   "cell_type": "code",
   "execution_count": 6,
   "id": "e626216a-8433-4a47-a8a6-b53e69594d46",
   "metadata": {},
   "outputs": [
    {
     "data": {
      "text/plain": [
       "(952, 11)"
      ]
     },
     "execution_count": 6,
     "metadata": {},
     "output_type": "execute_result"
    }
   ],
   "source": [
    "X_train.shape"
   ]
  },
  {
   "cell_type": "code",
   "execution_count": 7,
   "id": "96669e01-6674-4239-80b4-24449fa8caf6",
   "metadata": {},
   "outputs": [
    {
     "data": {
      "text/plain": [
       "(238, 11)"
      ]
     },
     "execution_count": 7,
     "metadata": {},
     "output_type": "execute_result"
    }
   ],
   "source": [
    "X_test.shape"
   ]
  },
  {
   "cell_type": "code",
   "execution_count": 8,
   "id": "2355f7ab-2c35-4310-9f94-4cf529e1ce8c",
   "metadata": {},
   "outputs": [
    {
     "data": {
      "text/plain": [
       "0.9537815126050421"
      ]
     },
     "execution_count": 8,
     "metadata": {},
     "output_type": "execute_result"
    }
   ],
   "source": [
    "from sklearn.ensemble import RandomForestClassifier\n",
    "from sklearn.metrics import accuracy_score\n",
    "\n",
    "\n",
    "\n",
    "\n",
    "rfc = RandomForestClassifier()\n",
    "rfc.fit(X_train,y_train)\n",
    "ypred = rfc.predict(X_test)\n",
    "accuracy_score(y_test,ypred)"
   ]
  },
  {
   "cell_type": "code",
   "execution_count": 9,
   "id": "21b2c68c-6956-4a0e-a2f9-82ee0d8499d1",
   "metadata": {},
   "outputs": [],
   "source": [
    "#prediction Model"
   ]
  },
  {
   "cell_type": "code",
   "execution_count": 10,
   "id": "5e9a2e05-622e-4507-8708-96f75e41ec44",
   "metadata": {},
   "outputs": [
    {
     "data": {
      "text/plain": [
       "array([ 36.,   1.,   2., 120., 267.,   0.,   0., 160.,   0.,   3.,   2.,\n",
       "         1.])"
      ]
     },
     "execution_count": 10,
     "metadata": {},
     "output_type": "execute_result"
    }
   ],
   "source": [
    "df.iloc[19].values"
   ]
  },
  {
   "cell_type": "code",
   "execution_count": 11,
   "id": "15ca58ae-fc08-4a50-b601-923151ca8f2a",
   "metadata": {},
   "outputs": [],
   "source": [
    "input_values =(58, 1, 2, 140, 240, 1, 1, 150, 1, 2.3, 1.)"
   ]
  },
  {
   "cell_type": "code",
   "execution_count": 12,
   "id": "c2421300-c201-4c13-b287-71a085271869",
   "metadata": {},
   "outputs": [
    {
     "name": "stderr",
     "output_type": "stream",
     "text": [
      "C:\\Users\\mohan\\anaconda3\\Lib\\site-packages\\sklearn\\base.py:493: UserWarning: X does not have valid feature names, but RandomForestClassifier was fitted with feature names\n",
      "  warnings.warn(\n"
     ]
    },
    {
     "data": {
      "text/plain": [
       "array([[0]], dtype=int64)"
      ]
     },
     "execution_count": 12,
     "metadata": {},
     "output_type": "execute_result"
    }
   ],
   "source": [
    "import numpy as np\n",
    "features = np.array([input_values])\n",
    "rfc.predict(features).reshape(1,-1)"
   ]
  },
  {
   "cell_type": "code",
   "execution_count": 13,
   "id": "bb9fb3d6-bc42-43cc-9c35-6ba34465c3f5",
   "metadata": {},
   "outputs": [],
   "source": [
    "###DEPLOYMENT####"
   ]
  },
  {
   "cell_type": "code",
   "execution_count": 14,
   "id": "0ee48a31-1d6e-4e1c-83af-125df511675b",
   "metadata": {},
   "outputs": [
    {
     "name": "stdout",
     "output_type": "stream",
     "text": [
      "✅ Model saved at: C:/Users/mohan/Desktop/ML deployment/app_folder/trained-MODEL/heart_attack_model.pkl\n"
     ]
    }
   ],
   "source": [
    "import pandas as pd\n",
    "import numpy as np\n",
    "import pickle\n",
    "import os\n",
    "from sklearn.ensemble import RandomForestClassifier\n",
    "from sklearn.model_selection import train_test_split\n",
    "\n",
    "# Load the dataset\n",
    "df = pd.read_csv(\"C:/Users/mohan/OneDrive/Desktop/Heart attack predictor/dataset.csv\")\n",
    "\n",
    "# Extract features and target\n",
    "X = df.drop('target', axis=1)\n",
    "y = df['target']\n",
    "\n",
    "# Split the dataset into training and testing sets\n",
    "X_train, X_test, y_train, y_test = train_test_split(X, y, test_size=0.2, random_state=42)\n",
    "\n",
    "# Train the Random Forest model\n",
    "rfc = RandomForestClassifier()\n",
    "rfc.fit(X_train, y_train)\n",
    "\n",
    "# Define the path to save the model\n",
    "model_path = \"C:/Users/mohan/Desktop/ML deployment/app_folder/trained-MODEL/heart_attack_model.pkl\"\n",
    "\n",
    "# Ensure the directory exists\n",
    "os.makedirs(os.path.dirname(model_path), exist_ok=True)\n",
    "\n",
    "# Save the trained model using pickle\n",
    "with open(model_path, 'wb') as f:\n",
    "    pickle.dump(rfc, f)\n",
    "\n",
    "print(f\"✅ Model saved at: {model_path}\")\n"
   ]
  },
  {
   "cell_type": "code",
   "execution_count": 15,
   "id": "53be77fb-1070-4b7f-9138-8eb2b77ff73f",
   "metadata": {},
   "outputs": [
    {
     "name": "stdout",
     "output_type": "stream",
     "text": [
      "* Running on local URL:  http://127.0.0.1:7860\n",
      "\n",
      "To create a public link, set `share=True` in `launch()`.\n"
     ]
    },
    {
     "data": {
      "text/html": [
       "<div><iframe src=\"http://127.0.0.1:7860/\" width=\"100%\" height=\"500\" allow=\"autoplay; camera; microphone; clipboard-read; clipboard-write;\" frameborder=\"0\" allowfullscreen></iframe></div>"
      ],
      "text/plain": [
       "<IPython.core.display.HTML object>"
      ]
     },
     "metadata": {},
     "output_type": "display_data"
    },
    {
     "data": {
      "text/plain": []
     },
     "execution_count": 15,
     "metadata": {},
     "output_type": "execute_result"
    }
   ],
   "source": [
    "import gradio as gr\n",
    "import pandas as pd\n",
    "import numpy as np\n",
    "from sklearn.ensemble import RandomForestClassifier\n",
    "from sklearn.model_selection import train_test_split\n",
    "from sklearn.metrics import accuracy_score\n",
    "\n",
    "# Load the dataset\n",
    "df = pd.read_csv(\"C:/Users/mohan/OneDrive/Desktop/Heart attack predictor/dataset.csv\")\n",
    "\n",
    "# Extract features and target\n",
    "X = df.drop('target', axis=1)\n",
    "y = df['target']\n",
    "\n",
    "# Split the dataset into training and testing sets\n",
    "X_train, X_test, y_train, y_test = train_test_split(X, y, test_size=0.2, random_state=42)\n",
    "\n",
    "# Train the Random Forest model\n",
    "rfc = RandomForestClassifier()\n",
    "rfc.fit(X_train, y_train)\n",
    "\n",
    "# Define the prediction function\n",
    "def predict_heart_attack(age, sex, chest_pain, resting_bp, cholesterol, fasting_blood_sugar,\n",
    "                         resting_ecg, max_heart_rate, exercise_angina, oldpeak, st_slope):\n",
    "    # Convert input to array for prediction\n",
    "    input_values = np.array([[age, sex, chest_pain, resting_bp, cholesterol, fasting_blood_sugar,\n",
    "                              resting_ecg, max_heart_rate, exercise_angina, oldpeak, st_slope]])\n",
    "\n",
    "    prediction = rfc.predict(input_values)\n",
    "    \n",
    "    if prediction == 1:\n",
    "        return \"Heart Attack Detected! Immediate attention is required.\", \"danger\"\n",
    "    else:\n",
    "        return \"No Heart Attack! Continue monitoring health.\", \"success\"\n",
    "\n",
    "# Set up the Gradio interface with refined inputs and outputs\n",
    "inputs = [\n",
    "    gr.Slider(minimum=20, maximum=100, step=1, label=\"Age\", value=0),\n",
    "    gr.Radio(choices=[0, 1], label=\"Sex (0=Female, 1=Male)\", value=None),\n",
    "    gr.Radio(choices=[1, 2, 3, 4], label=\"Chest Pain Type\", value=None,\n",
    "             info=\"1=Typical Angina, 2=Atypical Angina, 3=Non-Anginal Pain, 4=Asymptomatic\"),\n",
    "    gr.Slider(minimum=90, maximum=200, step=1, label=\"Resting Blood Pressure (mm Hg)\", value=0),\n",
    "    gr.Slider(minimum=100, maximum=600, step=1, label=\"Cholesterol (mg/dl)\", value=0),\n",
    "    gr.Radio(choices=[0, 1], label=\"Fasting Blood Sugar > 120 mg/dl\", value=None),\n",
    "    gr.Radio(choices=[0, 1, 2], label=\"Resting ECG\", value=None),\n",
    "    gr.Slider(minimum=70, maximum=220, step=1, label=\"Max Heart Rate\", value=0),\n",
    "    gr.Radio(choices=[0, 1], label=\"Exercise Induced Angina (1=Yes)\", value=None),\n",
    "    gr.Slider(minimum=0, maximum=6, step=0.1, label=\"Oldpeak\", value=0),\n",
    "    gr.Radio(choices=[0, 1, 2], label=\"ST Slope\", value=None)\n",
    "]\n",
    "\n",
    "outputs = [\n",
    "    gr.Textbox(label=\"Prediction\", type=\"text\", interactive=False),\n",
    "    gr.Textbox(label=\"Status\", type=\"text\", interactive=False)\n",
    "]\n",
    "\n",
    "# Updated examples list with 4 cases\n",
    "example_inputs = [\n",
    "    [58, 1, 2, 140, 240, 1, 1, 150, 1, 2.3, 1],\n",
    "    [45, 1, 3, 120, 200, 0, 1, 160, 0, 1.2, 2],\n",
    "    [48, 1, 4, 160, 329, 0, 0, 92, 1, 1.5, 2],  # New example\n",
    "    [39, 0, 3, 110, 182, 0, 1, 180, 0, 0, 1]    # New example\n",
    "]\n",
    "\n",
    "# Gradio Interface\n",
    "gr.Interface(\n",
    "    fn=predict_heart_attack, \n",
    "    inputs=inputs, \n",
    "    outputs=outputs,\n",
    "    title=\"Heart Attack Prediction Model\",\n",
    "    description=\"This tool predicts the likelihood of a heart attack based on various input factors.\",\n",
    "    theme=\"default\",\n",
    "    live=True,\n",
    "    examples=example_inputs\n",
    ").launch()\n"
   ]
  }
 ],
 "metadata": {
  "kernelspec": {
   "display_name": "Python 3 (ipykernel)",
   "language": "python",
   "name": "python3"
  },
  "language_info": {
   "codemirror_mode": {
    "name": "ipython",
    "version": 3
   },
   "file_extension": ".py",
   "mimetype": "text/x-python",
   "name": "python",
   "nbconvert_exporter": "python",
   "pygments_lexer": "ipython3",
   "version": "3.12.7"
  }
 },
 "nbformat": 4,
 "nbformat_minor": 5
}
